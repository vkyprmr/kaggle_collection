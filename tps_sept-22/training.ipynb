{
 "cells": [
  {
   "cell_type": "code",
   "execution_count": 1,
   "metadata": {
    "collapsed": true,
    "pycharm": {
     "name": "#%%\n"
    }
   },
   "outputs": [],
   "source": [
    "import pandas as pd\n",
    "from sklearn.model_selection import RepeatedKFold, cross_val_score\n",
    "from sklearn.ensemble import RandomForestRegressor\n",
    "import xgboost\n",
    "from sklearn.metrics import mean_absolute_error, mean_squared_error, make_scorer, r2_score\n",
    "from math import sqrt\n",
    "from pathlib import Path\n",
    "import numpy as np"
   ]
  },
  {
   "cell_type": "code",
   "execution_count": 2,
   "outputs": [],
   "source": [
    "data = Path(\"/Users/vickyparmar/data/kaggle/tabular-playground-series-sep-2022\")\n",
    "train = data / \"train_enc.csv\""
   ],
   "metadata": {
    "collapsed": false,
    "pycharm": {
     "name": "#%%\n"
    }
   }
  },
  {
   "cell_type": "code",
   "execution_count": 3,
   "outputs": [],
   "source": [
    "df = pd.read_csv(train)"
   ],
   "metadata": {
    "collapsed": false,
    "pycharm": {
     "name": "#%%\n"
    }
   }
  },
  {
   "cell_type": "code",
   "execution_count": 4,
   "outputs": [
    {
     "data": {
      "text/plain": "   row_id  store_kagglemart  store_kagglerama  \\\n0       0                 1                 0   \n1       1                 1                 0   \n2       2                 1                 0   \n3       3                 1                 0   \n4       4                 0                 1   \n\n   product_kaggle_advanced_techniques  product_kaggle_getting_started  \\\n0                                   1                               0   \n1                                   0                               1   \n2                                   0                               0   \n3                                   0                               0   \n4                                   1                               0   \n\n   product_kaggle_recipe_book  product_kaggle_for_kids:_one_smart_goose  \\\n0                           0                                         0   \n1                           0                                         0   \n2                           1                                         0   \n3                           0                                         1   \n4                           0                                         0   \n\n         date  country_belgium  country_france  ...  day_friday  day_saturday  \\\n0  2017-01-01                1               0  ...           0             0   \n1  2017-01-01                1               0  ...           0             0   \n2  2017-01-01                1               0  ...           0             0   \n3  2017-01-01                1               0  ...           0             0   \n4  2017-01-01                1               0  ...           0             0   \n\n   is_holiday  is_weekend  season_winter  season_spring  season_summer  \\\n0           1           1              1              0              0   \n1           1           1              1              0              0   \n2           1           1              1              0              0   \n3           1           1              1              0              0   \n4           1           1              1              0              0   \n\n   season_autumn  covid_19  num_sold  \n0              0         0       663  \n1              0         0       615  \n2              0         0       480  \n3              0         0       710  \n4              0         0       240  \n\n[5 rows x 29 columns]",
      "text/html": "<div>\n<style scoped>\n    .dataframe tbody tr th:only-of-type {\n        vertical-align: middle;\n    }\n\n    .dataframe tbody tr th {\n        vertical-align: top;\n    }\n\n    .dataframe thead th {\n        text-align: right;\n    }\n</style>\n<table border=\"1\" class=\"dataframe\">\n  <thead>\n    <tr style=\"text-align: right;\">\n      <th></th>\n      <th>row_id</th>\n      <th>store_kagglemart</th>\n      <th>store_kagglerama</th>\n      <th>product_kaggle_advanced_techniques</th>\n      <th>product_kaggle_getting_started</th>\n      <th>product_kaggle_recipe_book</th>\n      <th>product_kaggle_for_kids:_one_smart_goose</th>\n      <th>date</th>\n      <th>country_belgium</th>\n      <th>country_france</th>\n      <th>...</th>\n      <th>day_friday</th>\n      <th>day_saturday</th>\n      <th>is_holiday</th>\n      <th>is_weekend</th>\n      <th>season_winter</th>\n      <th>season_spring</th>\n      <th>season_summer</th>\n      <th>season_autumn</th>\n      <th>covid_19</th>\n      <th>num_sold</th>\n    </tr>\n  </thead>\n  <tbody>\n    <tr>\n      <th>0</th>\n      <td>0</td>\n      <td>1</td>\n      <td>0</td>\n      <td>1</td>\n      <td>0</td>\n      <td>0</td>\n      <td>0</td>\n      <td>2017-01-01</td>\n      <td>1</td>\n      <td>0</td>\n      <td>...</td>\n      <td>0</td>\n      <td>0</td>\n      <td>1</td>\n      <td>1</td>\n      <td>1</td>\n      <td>0</td>\n      <td>0</td>\n      <td>0</td>\n      <td>0</td>\n      <td>663</td>\n    </tr>\n    <tr>\n      <th>1</th>\n      <td>1</td>\n      <td>1</td>\n      <td>0</td>\n      <td>0</td>\n      <td>1</td>\n      <td>0</td>\n      <td>0</td>\n      <td>2017-01-01</td>\n      <td>1</td>\n      <td>0</td>\n      <td>...</td>\n      <td>0</td>\n      <td>0</td>\n      <td>1</td>\n      <td>1</td>\n      <td>1</td>\n      <td>0</td>\n      <td>0</td>\n      <td>0</td>\n      <td>0</td>\n      <td>615</td>\n    </tr>\n    <tr>\n      <th>2</th>\n      <td>2</td>\n      <td>1</td>\n      <td>0</td>\n      <td>0</td>\n      <td>0</td>\n      <td>1</td>\n      <td>0</td>\n      <td>2017-01-01</td>\n      <td>1</td>\n      <td>0</td>\n      <td>...</td>\n      <td>0</td>\n      <td>0</td>\n      <td>1</td>\n      <td>1</td>\n      <td>1</td>\n      <td>0</td>\n      <td>0</td>\n      <td>0</td>\n      <td>0</td>\n      <td>480</td>\n    </tr>\n    <tr>\n      <th>3</th>\n      <td>3</td>\n      <td>1</td>\n      <td>0</td>\n      <td>0</td>\n      <td>0</td>\n      <td>0</td>\n      <td>1</td>\n      <td>2017-01-01</td>\n      <td>1</td>\n      <td>0</td>\n      <td>...</td>\n      <td>0</td>\n      <td>0</td>\n      <td>1</td>\n      <td>1</td>\n      <td>1</td>\n      <td>0</td>\n      <td>0</td>\n      <td>0</td>\n      <td>0</td>\n      <td>710</td>\n    </tr>\n    <tr>\n      <th>4</th>\n      <td>4</td>\n      <td>0</td>\n      <td>1</td>\n      <td>1</td>\n      <td>0</td>\n      <td>0</td>\n      <td>0</td>\n      <td>2017-01-01</td>\n      <td>1</td>\n      <td>0</td>\n      <td>...</td>\n      <td>0</td>\n      <td>0</td>\n      <td>1</td>\n      <td>1</td>\n      <td>1</td>\n      <td>0</td>\n      <td>0</td>\n      <td>0</td>\n      <td>0</td>\n      <td>240</td>\n    </tr>\n  </tbody>\n</table>\n<p>5 rows × 29 columns</p>\n</div>"
     },
     "execution_count": 4,
     "metadata": {},
     "output_type": "execute_result"
    }
   ],
   "source": [
    "df.head()"
   ],
   "metadata": {
    "collapsed": false,
    "pycharm": {
     "name": "#%%\n"
    }
   }
  },
  {
   "cell_type": "code",
   "execution_count": 12,
   "outputs": [
    {
     "data": {
      "text/plain": "0    52560\n1    17568\nName: covid_19, dtype: int64"
     },
     "execution_count": 12,
     "metadata": {},
     "output_type": "execute_result"
    }
   ],
   "source": [
    "df.covid_19.value_counts()"
   ],
   "metadata": {
    "collapsed": false,
    "pycharm": {
     "name": "#%%\n"
    }
   }
  },
  {
   "cell_type": "code",
   "execution_count": 5,
   "outputs": [],
   "source": [
    "y = df[\"num_sold\"]\n",
    "X = df.drop([\"num_sold\", \"date\"], axis=1, inplace=False)"
   ],
   "metadata": {
    "collapsed": false,
    "pycharm": {
     "name": "#%%\n"
    }
   }
  },
  {
   "cell_type": "code",
   "execution_count": 9,
   "outputs": [],
   "source": [
    "def SMAPE(y_true, y_pred):\n",
    "    return 1/len(y_true) * np.sum(2 * np.abs(y_pred - y_true) / (np.abs(y_true) + np.abs(y_pred)) * 100)"
   ],
   "metadata": {
    "collapsed": false,
    "pycharm": {
     "name": "#%%\n"
    }
   }
  },
  {
   "cell_type": "code",
   "execution_count": 10,
   "outputs": [],
   "source": [
    "scorer = make_scorer(SMAPE, greater_is_better=False)"
   ],
   "metadata": {
    "collapsed": false,
    "pycharm": {
     "name": "#%%\n"
    }
   }
  },
  {
   "cell_type": "code",
   "execution_count": 11,
   "outputs": [
    {
     "name": "stdout",
     "output_type": "stream",
     "text": [
      "Scores: -15.417334454528355 +/- 0.1279403951821233\n"
     ]
    }
   ],
   "source": [
    "cv = RepeatedKFold(n_splits=5, n_repeats=10, random_state=42)\n",
    "rf = RandomForestRegressor(max_depth=5, random_state=42)\n",
    "scores = cross_val_score(estimator=rf, X=X, y=y, scoring=scorer, cv=cv, n_jobs=-1)\n",
    "print(f\"Scores: {scores.mean()} +/- {scores.std()}\")"
   ],
   "metadata": {
    "collapsed": false,
    "pycharm": {
     "name": "#%%\n"
    }
   }
  },
  {
   "cell_type": "code",
   "execution_count": 8,
   "outputs": [
    {
     "data": {
      "text/plain": "array([-0.86166252, -0.86177986, -0.86686139, -0.86103094, -0.86288706,\n       -0.86567369, -0.86410725, -0.86392782, -0.86229933, -0.85934838,\n       -0.86312649, -0.86083616, -0.86658979, -0.86304558, -0.859359  ,\n       -0.87008257, -0.86054261, -0.85490408, -0.85645351, -0.87086737,\n       -0.85766703, -0.86283608, -0.86237833, -0.86684952, -0.86350342,\n       -0.86161354, -0.86736739, -0.85942725, -0.86079875, -0.86548595,\n       -0.86216074, -0.8591506 , -0.86547935, -0.86359543, -0.86325761,\n       -0.85902508, -0.86831309, -0.85961859, -0.86303988, -0.86424054,\n       -0.86158538, -0.86444746, -0.86117724, -0.86594604, -0.85991555,\n       -0.862961  , -0.86149899, -0.85947562, -0.86648698, -0.86362485])"
     },
     "execution_count": 8,
     "metadata": {},
     "output_type": "execute_result"
    }
   ],
   "source": [
    "scores"
   ],
   "metadata": {
    "collapsed": false,
    "pycharm": {
     "name": "#%%\n"
    }
   }
  },
  {
   "cell_type": "code",
   "execution_count": null,
   "outputs": [],
   "source": [
    "cv = RepeatedKFold(n_splits=5, n_repeats=10, random_state=42)\n",
    "xgb = xgboost.XGBRegressor()\n",
    "scores = cross_val_score(estimator=xgb, X=X, y=y, scoring=scorer, cv=cv, n_jobs=-1)\n",
    "print(f\"Scores: {scores.mean()} +/- {scores.std()}\")"
   ],
   "metadata": {
    "collapsed": false,
    "pycharm": {
     "name": "#%%\n"
    }
   }
  },
  {
   "cell_type": "code",
   "execution_count": null,
   "outputs": [],
   "source": [
    "scores"
   ],
   "metadata": {
    "collapsed": false,
    "pycharm": {
     "name": "#%%\n"
    }
   }
  },
  {
   "cell_type": "code",
   "execution_count": null,
   "outputs": [],
   "source": [],
   "metadata": {
    "collapsed": false,
    "pycharm": {
     "name": "#%%\n"
    }
   }
  }
 ],
 "metadata": {
  "kernelspec": {
   "display_name": "Python 3",
   "language": "python",
   "name": "python3"
  },
  "language_info": {
   "codemirror_mode": {
    "name": "ipython",
    "version": 2
   },
   "file_extension": ".py",
   "mimetype": "text/x-python",
   "name": "python",
   "nbconvert_exporter": "python",
   "pygments_lexer": "ipython2",
   "version": "2.7.6"
  }
 },
 "nbformat": 4,
 "nbformat_minor": 0
}